{
 "cells": [
  {
   "cell_type": "markdown",
   "metadata": {},
   "source": [
    "# Importing Libraries"
   ]
  },
  {
   "cell_type": "code",
   "execution_count": 23,
   "metadata": {},
   "outputs": [],
   "source": [
    "import pandas as pd\n",
    "import numpy as np\n",
    "import datetime\n",
    "from sklearn.ensemble import RandomForestClassifier\n",
    "from sklearn.linear_model import LogisticRegression\n",
    "from sklearn.tree import DecisionTreeClassifier\n",
    "from sklearn.model_selection import GridSearchCV\n",
    "from sklearn.model_selection import cross_val_score\n",
    "from sklearn.cross_validation import train_test_split\n",
    "from sklearn.metrics import cohen_kappa_score"
   ]
  },
  {
   "cell_type": "markdown",
   "metadata": {},
   "source": [
    "# Loading and cleaning the dataset"
   ]
  },
  {
   "cell_type": "code",
   "execution_count": 26,
   "metadata": {
    "collapsed": true
   },
   "outputs": [],
   "source": [
    "df = pd.DataFrame(pd.read_csv(\"Updated_Data.csv\"))\n",
    "del df[df.columns[0]]"
   ]
  },
  {
   "cell_type": "code",
   "execution_count": 27,
   "metadata": {},
   "outputs": [
    {
     "data": {
      "text/html": [
       "<div>\n",
       "<style>\n",
       "    .dataframe thead tr:only-child th {\n",
       "        text-align: right;\n",
       "    }\n",
       "\n",
       "    .dataframe thead th {\n",
       "        text-align: left;\n",
       "    }\n",
       "\n",
       "    .dataframe tbody tr th {\n",
       "        vertical-align: top;\n",
       "    }\n",
       "</style>\n",
       "<table border=\"1\" class=\"dataframe\">\n",
       "  <thead>\n",
       "    <tr style=\"text-align: right;\">\n",
       "      <th></th>\n",
       "      <th>datetime_local</th>\n",
       "      <th>short_title</th>\n",
       "      <th>popularity</th>\n",
       "      <th>score</th>\n",
       "      <th>Venue_id</th>\n",
       "      <th>latitude</th>\n",
       "      <th>longitude</th>\n",
       "      <th>Venue_name</th>\n",
       "      <th>average_price</th>\n",
       "      <th>highest_price</th>\n",
       "      <th>...</th>\n",
       "      <th>TaxiCount</th>\n",
       "      <th>LocationID</th>\n",
       "      <th>Month</th>\n",
       "      <th>DayofMonth</th>\n",
       "      <th>Hour</th>\n",
       "      <th>Temp_Avg</th>\n",
       "      <th>Conditions</th>\n",
       "      <th>Conditions2</th>\n",
       "      <th>timestamp</th>\n",
       "      <th>weekday</th>\n",
       "    </tr>\n",
       "  </thead>\n",
       "  <tbody>\n",
       "    <tr>\n",
       "      <th>0</th>\n",
       "      <td>2017-07-05 14:00:00</td>\n",
       "      <td>Dear Evan Hansen - New York</td>\n",
       "      <td>0.000000</td>\n",
       "      <td>0.604179</td>\n",
       "      <td>3298</td>\n",
       "      <td>40.6971</td>\n",
       "      <td>-73.9796</td>\n",
       "      <td>Music Box Theatre</td>\n",
       "      <td>759.0</td>\n",
       "      <td>1126</td>\n",
       "      <td>...</td>\n",
       "      <td>33</td>\n",
       "      <td>65</td>\n",
       "      <td>7</td>\n",
       "      <td>5</td>\n",
       "      <td>14</td>\n",
       "      <td>82.4</td>\n",
       "      <td>Mostly Cloudy</td>\n",
       "      <td>4</td>\n",
       "      <td>7/5/2017 14:00</td>\n",
       "      <td>2</td>\n",
       "    </tr>\n",
       "    <tr>\n",
       "      <th>1</th>\n",
       "      <td>2017-07-05 14:00:00</td>\n",
       "      <td>Hello, Dolly! - New York</td>\n",
       "      <td>0.692593</td>\n",
       "      <td>0.588942</td>\n",
       "      <td>3187</td>\n",
       "      <td>40.6971</td>\n",
       "      <td>-73.9796</td>\n",
       "      <td>Shubert Theatre</td>\n",
       "      <td>1007.0</td>\n",
       "      <td>1884</td>\n",
       "      <td>...</td>\n",
       "      <td>33</td>\n",
       "      <td>65</td>\n",
       "      <td>7</td>\n",
       "      <td>5</td>\n",
       "      <td>14</td>\n",
       "      <td>82.4</td>\n",
       "      <td>Mostly Cloudy</td>\n",
       "      <td>4</td>\n",
       "      <td>7/5/2017 14:00</td>\n",
       "      <td>2</td>\n",
       "    </tr>\n",
       "    <tr>\n",
       "      <th>2</th>\n",
       "      <td>2017-07-05 20:00:00</td>\n",
       "      <td>Hello, Dolly! - New York</td>\n",
       "      <td>0.660295</td>\n",
       "      <td>0.647096</td>\n",
       "      <td>3187</td>\n",
       "      <td>40.6971</td>\n",
       "      <td>-73.9796</td>\n",
       "      <td>Shubert Theatre</td>\n",
       "      <td>972.5</td>\n",
       "      <td>1884</td>\n",
       "      <td>...</td>\n",
       "      <td>27</td>\n",
       "      <td>65</td>\n",
       "      <td>7</td>\n",
       "      <td>5</td>\n",
       "      <td>20</td>\n",
       "      <td>73.4</td>\n",
       "      <td>Clear</td>\n",
       "      <td>0</td>\n",
       "      <td>7/5/2017 20:00</td>\n",
       "      <td>2</td>\n",
       "    </tr>\n",
       "    <tr>\n",
       "      <th>3</th>\n",
       "      <td>2017-07-05 20:00:00</td>\n",
       "      <td>Dear Evan Hansen - New York</td>\n",
       "      <td>0.000000</td>\n",
       "      <td>0.601474</td>\n",
       "      <td>3298</td>\n",
       "      <td>40.6971</td>\n",
       "      <td>-73.9796</td>\n",
       "      <td>Music Box Theatre</td>\n",
       "      <td>668.0</td>\n",
       "      <td>825</td>\n",
       "      <td>...</td>\n",
       "      <td>27</td>\n",
       "      <td>65</td>\n",
       "      <td>7</td>\n",
       "      <td>5</td>\n",
       "      <td>20</td>\n",
       "      <td>73.4</td>\n",
       "      <td>Clear</td>\n",
       "      <td>0</td>\n",
       "      <td>7/5/2017 20:00</td>\n",
       "      <td>2</td>\n",
       "    </tr>\n",
       "    <tr>\n",
       "      <th>4</th>\n",
       "      <td>2017-07-05 23:00:00</td>\n",
       "      <td>Beatbreaker - New York</td>\n",
       "      <td>0.000000</td>\n",
       "      <td>0.452016</td>\n",
       "      <td>41977</td>\n",
       "      <td>40.7028</td>\n",
       "      <td>-73.9903</td>\n",
       "      <td>Marquee New York</td>\n",
       "      <td>0.0</td>\n",
       "      <td>0</td>\n",
       "      <td>...</td>\n",
       "      <td>18</td>\n",
       "      <td>66</td>\n",
       "      <td>7</td>\n",
       "      <td>5</td>\n",
       "      <td>23</td>\n",
       "      <td>73.4</td>\n",
       "      <td>Partly Cloudy</td>\n",
       "      <td>5</td>\n",
       "      <td>7/5/2017 23:00</td>\n",
       "      <td>2</td>\n",
       "    </tr>\n",
       "  </tbody>\n",
       "</table>\n",
       "<p>5 rows × 25 columns</p>\n",
       "</div>"
      ],
      "text/plain": [
       "        datetime_local                  short_title  popularity     score  \\\n",
       "0  2017-07-05 14:00:00  Dear Evan Hansen - New York    0.000000  0.604179   \n",
       "1  2017-07-05 14:00:00     Hello, Dolly! - New York    0.692593  0.588942   \n",
       "2  2017-07-05 20:00:00     Hello, Dolly! - New York    0.660295  0.647096   \n",
       "3  2017-07-05 20:00:00  Dear Evan Hansen - New York    0.000000  0.601474   \n",
       "4  2017-07-05 23:00:00       Beatbreaker - New York    0.000000  0.452016   \n",
       "\n",
       "   Venue_id  latitude  longitude         Venue_name  average_price  \\\n",
       "0      3298   40.6971   -73.9796  Music Box Theatre          759.0   \n",
       "1      3187   40.6971   -73.9796    Shubert Theatre         1007.0   \n",
       "2      3187   40.6971   -73.9796    Shubert Theatre          972.5   \n",
       "3      3298   40.6971   -73.9796  Music Box Theatre          668.0   \n",
       "4     41977   40.7028   -73.9903   Marquee New York            0.0   \n",
       "\n",
       "   highest_price   ...     TaxiCount  LocationID  Month DayofMonth  Hour  \\\n",
       "0           1126   ...            33          65      7          5    14   \n",
       "1           1884   ...            33          65      7          5    14   \n",
       "2           1884   ...            27          65      7          5    20   \n",
       "3            825   ...            27          65      7          5    20   \n",
       "4              0   ...            18          66      7          5    23   \n",
       "\n",
       "   Temp_Avg     Conditions  Conditions2       timestamp  weekday  \n",
       "0      82.4  Mostly Cloudy            4  7/5/2017 14:00        2  \n",
       "1      82.4  Mostly Cloudy            4  7/5/2017 14:00        2  \n",
       "2      73.4          Clear            0  7/5/2017 20:00        2  \n",
       "3      73.4          Clear            0  7/5/2017 20:00        2  \n",
       "4      73.4  Partly Cloudy            5  7/5/2017 23:00        2  \n",
       "\n",
       "[5 rows x 25 columns]"
      ]
     },
     "execution_count": 27,
     "metadata": {},
     "output_type": "execute_result"
    }
   ],
   "source": [
    "df.head(5)"
   ]
  },
  {
   "cell_type": "code",
   "execution_count": 28,
   "metadata": {},
   "outputs": [],
   "source": [
    "newdf = df.dropna()"
   ]
  },
  {
   "cell_type": "code",
   "execution_count": 29,
   "metadata": {},
   "outputs": [
    {
     "data": {
      "text/plain": [
       "(1814, 25)"
      ]
     },
     "execution_count": 29,
     "metadata": {},
     "output_type": "execute_result"
    }
   ],
   "source": [
    "newdf.shape"
   ]
  },
  {
   "cell_type": "code",
   "execution_count": 30,
   "metadata": {},
   "outputs": [
    {
     "name": "stderr",
     "output_type": "stream",
     "text": [
      "/anaconda2/lib/python2.7/site-packages/ipykernel_launcher.py:1: SettingWithCopyWarning: \n",
      "A value is trying to be set on a copy of a slice from a DataFrame.\n",
      "Try using .loc[row_indexer,col_indexer] = value instead\n",
      "\n",
      "See the caveats in the documentation: http://pandas.pydata.org/pandas-docs/stable/indexing.html#indexing-view-versus-copy\n",
      "  \"\"\"Entry point for launching an IPython kernel.\n",
      "/anaconda2/lib/python2.7/site-packages/ipykernel_launcher.py:2: SettingWithCopyWarning: \n",
      "A value is trying to be set on a copy of a slice from a DataFrame.\n",
      "Try using .loc[row_indexer,col_indexer] = value instead\n",
      "\n",
      "See the caveats in the documentation: http://pandas.pydata.org/pandas-docs/stable/indexing.html#indexing-view-versus-copy\n",
      "  \n"
     ]
    }
   ],
   "source": [
    "newdf['popularity'] = (newdf['popularity']*100).astype(int)\n",
    "newdf['score'] = (newdf['score']*100).astype(int)"
   ]
  },
  {
   "cell_type": "code",
   "execution_count": 31,
   "metadata": {},
   "outputs": [
    {
     "data": {
      "text/plain": [
       "Index([u'datetime_local', u'short_title', u'popularity', u'score', u'Venue_id',\n",
       "       u'latitude', u'longitude', u'Venue_name', u'average_price',\n",
       "       u'highest_price', u'listing_count', u'lowest_price',\n",
       "       u'lowest_price_good_deals', u'type', u'type2', u'TaxiCount',\n",
       "       u'LocationID', u'Month', u'DayofMonth', u'Hour', u'Temp_Avg',\n",
       "       u'Conditions', u'Conditions2', u'timestamp', u'weekday'],\n",
       "      dtype='object')"
      ]
     },
     "execution_count": 31,
     "metadata": {},
     "output_type": "execute_result"
    }
   ],
   "source": [
    "#Backing up\n",
    "data = newdf\n",
    "data.columns"
   ]
  },
  {
   "cell_type": "markdown",
   "metadata": {},
   "source": [
    "# Creating training and testing data sets"
   ]
  },
  {
   "cell_type": "code",
   "execution_count": 32,
   "metadata": {},
   "outputs": [],
   "source": [
    "X = data[['popularity','score','Venue_id','average_price','highest_price','lowest_price','listing_count','lowest_price_good_deals','type2','Temp_Avg','Conditions2','LocationID','weekday','Month','DayofMonth','Hour']].astype(int)\n",
    "Y = data['TaxiCount']\n",
    "X_train, X_test, Y_train, Y_test = train_test_split(X, Y, train_size=.90)"
   ]
  },
  {
   "cell_type": "markdown",
   "metadata": {},
   "source": [
    "# Creating the Model"
   ]
  },
  {
   "cell_type": "code",
   "execution_count": 33,
   "metadata": {},
   "outputs": [
    {
     "data": {
      "text/plain": [
       "DecisionTreeClassifier(class_weight=None, criterion='gini', max_depth=None,\n",
       "            max_features=None, max_leaf_nodes=None,\n",
       "            min_impurity_decrease=0.0, min_impurity_split=None,\n",
       "            min_samples_leaf=1, min_samples_split=2,\n",
       "            min_weight_fraction_leaf=0.0, presort=False, random_state=None,\n",
       "            splitter='best')"
      ]
     },
     "execution_count": 33,
     "metadata": {},
     "output_type": "execute_result"
    }
   ],
   "source": [
    "clf1 = DecisionTreeClassifier()\n",
    "clf1.fit(X_train, Y_train)"
   ]
  },
  {
   "cell_type": "code",
   "execution_count": 34,
   "metadata": {},
   "outputs": [
    {
     "data": {
      "text/plain": [
       "RandomForestClassifier(bootstrap=True, class_weight=None, criterion='gini',\n",
       "            max_depth=None, max_features='auto', max_leaf_nodes=None,\n",
       "            min_impurity_decrease=0.0, min_impurity_split=None,\n",
       "            min_samples_leaf=1, min_samples_split=2,\n",
       "            min_weight_fraction_leaf=0.0, n_estimators=1000, n_jobs=1,\n",
       "            oob_score=False, random_state=None, verbose=0,\n",
       "            warm_start=False)"
      ]
     },
     "execution_count": 34,
     "metadata": {},
     "output_type": "execute_result"
    }
   ],
   "source": [
    "clf2 = RandomForestClassifier(n_estimators= 1000)\n",
    "clf2.fit(X_train, Y_train)"
   ]
  },
  {
   "cell_type": "code",
   "execution_count": 35,
   "metadata": {},
   "outputs": [
    {
     "data": {
      "text/plain": [
       "LogisticRegression(C=1.0, class_weight=None, dual=False, fit_intercept=True,\n",
       "          intercept_scaling=1, max_iter=100, multi_class='ovr', n_jobs=1,\n",
       "          penalty='l2', random_state=None, solver='liblinear', tol=0.0001,\n",
       "          verbose=0, warm_start=False)"
      ]
     },
     "execution_count": 35,
     "metadata": {},
     "output_type": "execute_result"
    }
   ],
   "source": [
    "clf3 = LogisticRegression()\n",
    "clf3.fit(X_train, Y_train)"
   ]
  },
  {
   "cell_type": "code",
   "execution_count": 36,
   "metadata": {
    "collapsed": true
   },
   "outputs": [],
   "source": [
    "pred1 = clf1.predict(X_test)\n",
    "pred2 = clf2.predict(X_test)\n",
    "pred3 = clf3.predict(X_test)"
   ]
  },
  {
   "cell_type": "markdown",
   "metadata": {},
   "source": [
    "# Results after prediction"
   ]
  },
  {
   "cell_type": "code",
   "execution_count": 37,
   "metadata": {
    "collapsed": true
   },
   "outputs": [],
   "source": [
    "actual_values = Y_test.reset_index()\n",
    "del actual_values['index']\n",
    "total = actual_values.shape[0]"
   ]
  },
  {
   "cell_type": "code",
   "execution_count": 38,
   "metadata": {},
   "outputs": [
    {
     "name": "stdout",
     "output_type": "stream",
     "text": [
      "('DecisionTreeClassifier', 170, 'Total', 182)\n",
      "('RandomForestClassifier', 171, 'Total', 182)\n",
      "('LogisticRegression', 122, 'Total', 182)\n"
     ]
    }
   ],
   "source": [
    "t1 = 0\n",
    "t2 = 0\n",
    "t3 = 0\n",
    "\n",
    "for i in range(len(pred1)):\n",
    "    if(abs(pred1[i] - actual_values['TaxiCount'][i])) <= 10:\n",
    "        t1 = t1 + 1\n",
    "    if(abs(pred2[i] - actual_values['TaxiCount'][i])) <= 10:\n",
    "        t2 = t2 + 1\n",
    "    if(abs(pred3[i] - actual_values['TaxiCount'][i])) <= 10:\n",
    "        t3 = t3 + 1\n",
    "print (\"DecisionTreeClassifier\",t1, \"Total\", total)\n",
    "print (\"RandomForestClassifier\",t2, \"Total\", total)\n",
    "print (\"LogisticRegression\",t3, \"Total\", total)"
   ]
  },
  {
   "cell_type": "markdown",
   "metadata": {},
   "source": [
    "##### Random Forest Classifier correctly predicts the count of taxis for 171 events out of 182\n",
    "##### Decision Tree Classifier correctly predicts the count of taxis for 170 events out of 18\n",
    "##### Logistic Regression correctly predicts the count of taxis for 122 events out of 182"
   ]
  },
  {
   "cell_type": "code",
   "execution_count": 39,
   "metadata": {},
   "outputs": [
    {
     "data": {
      "text/plain": [
       "0.91641407182878665"
      ]
     },
     "execution_count": 39,
     "metadata": {},
     "output_type": "execute_result"
    }
   ],
   "source": [
    "cohen_kappa_score(pred2, actual_values)"
   ]
  },
  {
   "cell_type": "markdown",
   "metadata": {},
   "source": [
    "# Enhancing the model using Grid Search CV"
   ]
  },
  {
   "cell_type": "code",
   "execution_count": 40,
   "metadata": {},
   "outputs": [
    {
     "name": "stderr",
     "output_type": "stream",
     "text": [
      "/anaconda2/lib/python2.7/site-packages/sklearn/model_selection/_split.py:605: Warning: The least populated class in y has only 1 members, which is too few. The minimum number of members in any class cannot be less than n_splits=5.\n",
      "  % (min_groups, self.n_splits)), Warning)\n"
     ]
    },
    {
     "name": "stdout",
     "output_type": "stream",
     "text": [
      "{'max_features': 'auto', 'n_estimators': 2000}\n",
      "\n",
      "RandomForestClassifier(bootstrap=True, class_weight=None, criterion='gini',\n",
      "            max_depth=None, max_features='auto', max_leaf_nodes=None,\n",
      "            min_impurity_decrease=0.0, min_impurity_split=None,\n",
      "            min_samples_leaf=1, min_samples_split=2,\n",
      "            min_weight_fraction_leaf=0.0, n_estimators=2000, n_jobs=-1,\n",
      "            oob_score=True, random_state=None, verbose=0, warm_start=False)\n"
     ]
    }
   ],
   "source": [
    "rfc = RandomForestClassifier(n_jobs=-1,max_features='auto',n_estimators=1000, oob_score = True) \n",
    "\n",
    "param_grid = { \n",
    "    'n_estimators': [100, 2000],\n",
    "    'max_features': ['auto', 'sqrt', 'log2']\n",
    "}\n",
    "\n",
    "CV_rfc = GridSearchCV(estimator=rfc,scoring='accuracy',param_grid=param_grid, cv=5)\n",
    "CV_rfc.fit(X_train,Y_train)\n",
    "print CV_rfc.best_params_\n",
    "print '\\n',CV_rfc.best_estimator_"
   ]
  },
  {
   "cell_type": "code",
   "execution_count": 41,
   "metadata": {},
   "outputs": [
    {
     "name": "stdout",
     "output_type": "stream",
     "text": [
      "{'min_samples_split': 2, 'max_leaf_nodes': None, 'max_depth': None, 'min_samples_leaf': 1}\n",
      "DecisionTreeClassifier(class_weight=None, criterion='gini', max_depth=None,\n",
      "            max_features=None, max_leaf_nodes=None,\n",
      "            min_impurity_decrease=0.0, min_impurity_split=None,\n",
      "            min_samples_leaf=1, min_samples_split=2,\n",
      "            min_weight_fraction_leaf=0.0, presort=False, random_state=None,\n",
      "            splitter='best')\n"
     ]
    }
   ],
   "source": [
    "dtc=DecisionTreeClassifier()\n",
    "n_estimators = range(50, 400, 50)\n",
    "\n",
    "parameters={\n",
    "    \"min_samples_split\": [2, 10, 20],\n",
    "    \"max_depth\": [None, 2, 5, 10],\n",
    "    \"min_samples_leaf\": [1, 5, 10],\n",
    "    \"max_leaf_nodes\": [None, 5, 10, 20]\n",
    "}\n",
    "\n",
    "CV_dtc=GridSearchCV(estimator=dtc,scoring='accuracy',param_grid=parameters,cv=5)\n",
    "CV_dtc.fit(X_train,Y_train)\n",
    "print CV_dtc.best_params_\n",
    "print CV_dtc.best_estimator_"
   ]
  },
  {
   "cell_type": "code",
   "execution_count": 42,
   "metadata": {},
   "outputs": [
    {
     "name": "stdout",
     "output_type": "stream",
     "text": [
      "{'C': 1000}\n",
      "\n",
      "LogisticRegression(C=1000, class_weight=None, dual=False, fit_intercept=True,\n",
      "          intercept_scaling=1, max_iter=100, multi_class='ovr', n_jobs=1,\n",
      "          penalty='l2', random_state=None, solver='liblinear', tol=0.0001,\n",
      "          verbose=0, warm_start=False)\n"
     ]
    }
   ],
   "source": [
    "lr = LogisticRegression()\n",
    "lr_param_grid = {'C':[0.001,0.01,0.1,1,10,1000]}\n",
    "\n",
    "#param_grid = dict(solver = solver_options, multi_class = multi_class_options, class_weight = class_weight_options)\n",
    "CV_lr = GridSearchCV(lr, lr_param_grid, cv = 5, scoring = 'accuracy')\n",
    "CV_lr.fit(X_train, Y_train)\n",
    "print CV_lr.best_params_\n",
    "print '\\n',CV_lr.best_estimator_"
   ]
  },
  {
   "cell_type": "markdown",
   "metadata": {},
   "source": [
    "# Creating the model using optimal parameters"
   ]
  },
  {
   "cell_type": "code",
   "execution_count": 48,
   "metadata": {},
   "outputs": [
    {
     "data": {
      "text/plain": [
       "RandomForestClassifier(bootstrap=True, class_weight=None, criterion='gini',\n",
       "            max_depth=None, max_features='auto', max_leaf_nodes=None,\n",
       "            min_impurity_decrease=0.0, min_impurity_split=None,\n",
       "            min_samples_leaf=1, min_samples_split=2,\n",
       "            min_weight_fraction_leaf=0.0, n_estimators=2500, n_jobs=-1,\n",
       "            oob_score=True, random_state=None, verbose=0, warm_start=False)"
      ]
     },
     "execution_count": 48,
     "metadata": {},
     "output_type": "execute_result"
    }
   ],
   "source": [
    "rfc_cv = RandomForestClassifier(bootstrap=True, class_weight=None, criterion='gini',\n",
    "            max_depth=None, max_features='auto', max_leaf_nodes=None,\n",
    "            min_impurity_decrease=0.0, min_impurity_split=None,\n",
    "            min_samples_leaf=1, min_samples_split=2,\n",
    "            min_weight_fraction_leaf=0.0, n_estimators=2500, n_jobs=-1,\n",
    "            oob_score=True, random_state=None, verbose=0, warm_start=False)\n",
    "rfc_cv.fit(X_train, Y_train)"
   ]
  },
  {
   "cell_type": "code",
   "execution_count": 44,
   "metadata": {},
   "outputs": [
    {
     "data": {
      "text/plain": [
       "LogisticRegression(C=1000, class_weight=None, dual=False, fit_intercept=True,\n",
       "          intercept_scaling=1, max_iter=100, multi_class='ovr', n_jobs=1,\n",
       "          penalty='l2', random_state=None, solver='liblinear', tol=0.0001,\n",
       "          verbose=0, warm_start=False)"
      ]
     },
     "execution_count": 44,
     "metadata": {},
     "output_type": "execute_result"
    }
   ],
   "source": [
    "lr_cv = LogisticRegression(C=1000, class_weight=None, dual=False, fit_intercept=True,\n",
    "          intercept_scaling=1, max_iter=100, multi_class='ovr', n_jobs=1,\n",
    "          penalty='l2', random_state=None, solver='liblinear', tol=0.0001,\n",
    "          verbose=0, warm_start=False)\n",
    "lr_cv.fit(X_train, Y_train)"
   ]
  },
  {
   "cell_type": "code",
   "execution_count": 52,
   "metadata": {},
   "outputs": [
    {
     "data": {
      "text/plain": [
       "DecisionTreeClassifier(class_weight=None, criterion='gini', max_depth=None,\n",
       "            max_features=None, max_leaf_nodes=None,\n",
       "            min_impurity_decrease=0.0, min_impurity_split=None,\n",
       "            min_samples_leaf=1, min_samples_split=2,\n",
       "            min_weight_fraction_leaf=0.0, presort=False, random_state=None,\n",
       "            splitter='best')"
      ]
     },
     "execution_count": 52,
     "metadata": {},
     "output_type": "execute_result"
    }
   ],
   "source": [
    "dtc_cv = DecisionTreeClassifier(class_weight=None, criterion='gini', max_depth=None,\n",
    "            max_features=None, max_leaf_nodes=None,\n",
    "            min_impurity_decrease=0.0, min_impurity_split=None,\n",
    "            min_samples_leaf=1, min_samples_split=2,\n",
    "            min_weight_fraction_leaf=0.0, presort=False, random_state=None,\n",
    "            splitter='best')\n",
    "dtc_cv.fit(X_train, Y_train)"
   ]
  },
  {
   "cell_type": "code",
   "execution_count": 53,
   "metadata": {
    "collapsed": true
   },
   "outputs": [],
   "source": [
    "rfc_pred = rfc_cv.predict(X_test)\n",
    "lr_pred = lr_cv.predict(X_test)\n",
    "dtc_pred = dtc_cv.predict(X_test)"
   ]
  },
  {
   "cell_type": "code",
   "execution_count": 61,
   "metadata": {},
   "outputs": [
    {
     "name": "stdout",
     "output_type": "stream",
     "text": [
      "('DecisionTreeClassifier', 169, 'Total', 182)\n",
      "('RandomForestClassifier', 171, 'Total', 182)\n",
      "('LogisticRegression', 129, 'Total', 182)\n"
     ]
    }
   ],
   "source": [
    "tlr = 0\n",
    "trfc = 0\n",
    "tdtc = 0\n",
    "for i in range(len(rfc_pred)):\n",
    "    if(abs(rfc_pred[i] - actual_values['TaxiCount'][i])) <= 10:\n",
    "        trfc = trfc + 1\n",
    "    if(abs(lr_pred[i] - actual_values['TaxiCount'][i])) <= 10:\n",
    "        tlr = tlr + 1\n",
    "    if(abs(dtc_pred[i] - actual_values['TaxiCount'][i])) <= 10:\n",
    "        tdtc = tdtc + 1\n",
    "\n",
    "print (\"DecisionTreeClassifier\",tdtc, \"Total\", total)\n",
    "print (\"RandomForestClassifier\",trfc, \"Total\", total)\n",
    "print (\"LogisticRegression\",tlr, \"Total\", total)"
   ]
  },
  {
   "cell_type": "markdown",
   "metadata": {},
   "source": [
    "#### As we see from the results, Random Forest gives the best result after Grid Search CV."
   ]
  },
  {
   "cell_type": "markdown",
   "metadata": {},
   "source": [
    "# Comparison of Actual vs Predicted Values"
   ]
  },
  {
   "cell_type": "code",
   "execution_count": 62,
   "metadata": {},
   "outputs": [
    {
     "data": {
      "image/png": "[encoded data removed]",
      "text/plain": [
       "<matplotlib.figure.Figure at 0x1dabe3c090>"
      ]
     },
     "metadata": {},
     "output_type": "display_data"
    }
   ],
   "source": [
    "import numpy as np\n",
    "import matplotlib.pyplot as plt\n",
    "\n",
    "\n",
    "n_groups = 182\n",
    "\n",
    "means_men = rfc_pred\n",
    "\n",
    "means_women = actual_values['TaxiCount']\n",
    "\n",
    "fig, ax = plt.subplots()\n",
    "\n",
    "index = np.arange(n_groups)\n",
    "bar_width = 0.25\n",
    "\n",
    "opacity = 0.4\n",
    "rects1 = plt.bar(index, means_men, bar_width, \n",
    "                 color='b',\n",
    "                 label='Predicted')\n",
    "\n",
    "rects2 = plt.bar(index + bar_width, means_women, bar_width,\n",
    "                 color='r',\n",
    "                 label='Actual')\n",
    "\n",
    "plt.xlabel('Event Count')\n",
    "plt.ylabel('Taxi Count')\n",
    "plt.title('Scores by actual and predicted')\n",
    "plt.legend()\n",
    "plt.rcParams[\"figure.figsize\"] = (20, 20)\n",
    "plt.show(fig)"
   ]
  },
  {
   "cell_type": "markdown",
   "metadata": {},
   "source": [
    "# Checking how much Every parameter contributes"
   ]
  },
  {
   "cell_type": "code",
   "execution_count": 58,
   "metadata": {},
   "outputs": [
    {
     "data": {
      "text/plain": [
       "array([ 0.03031213,  0.05190735,  0.04124796,  0.06495913,  0.04275872,\n",
       "        0.04854483,  0.05850415,  0.04360269,  0.01973246,  0.14125974,\n",
       "        0.05244765,  0.08198451,  0.06962785,  0.05698675,  0.11130952,\n",
       "        0.08481457])"
      ]
     },
     "execution_count": 58,
     "metadata": {},
     "output_type": "execute_result"
    }
   ],
   "source": [
    "rfc_cv.feature_importances_"
   ]
  },
  {
   "cell_type": "code",
   "execution_count": 59,
   "metadata": {
    "collapsed": true
   },
   "outputs": [],
   "source": [
    "n_groups1 = len(rfc_cv.feature_importances_)\n",
    "values = rfc_cv.feature_importances_\n",
    "index1 = ['popularity','score','Venue_id','average_price','highest_price','lowest_price','listing_count','lowest_price_good_deals','type2','Temp_Avg','Conditions2','LocationID','weekday','Month','DayofMonth','Hour']"
   ]
  },
  {
   "cell_type": "code",
   "execution_count": 64,
   "metadata": {},
   "outputs": [
    {
     "data": {
      "image/png": "[encoded data removed]",
      "text/plain": [
       "<matplotlib.figure.Figure at 0x1da7b4ad90>"
      ]
     },
     "metadata": {},
     "output_type": "display_data"
    }
   ],
   "source": [
    "bar_width = 0.5\n",
    "fig, ax = plt.subplots()\n",
    "opacity = 0.4\n",
    "rects3 = plt.bar(index1, values, bar_width, \n",
    "                 color='b',\n",
    "                 label='Feature Importance')\n",
    "plt.show(fig)\n",
    "plt.rcParams[\"figure.figsize\"] = (30, 10)"
   ]
  },
  {
   "cell_type": "code",
   "execution_count": null,
   "metadata": {
    "collapsed": true
   },
   "outputs": [],
   "source": []
  }
 ],
 "metadata": {
  "kernelspec": {
   "display_name": "Python 2",
   "language": "python",
   "name": "python2"
  },
  "language_info": {
   "codemirror_mode": {
    "name": "ipython",
    "version": 2
   },
   "file_extension": ".py",
   "mimetype": "text/x-python",
   "name": "python",
   "nbconvert_exporter": "python",
   "pygments_lexer": "ipython2",
   "version": "2.7.14"
  }
 },
 "nbformat": 4,
 "nbformat_minor": 2
}
